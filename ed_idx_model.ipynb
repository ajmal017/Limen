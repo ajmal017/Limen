{
  "nbformat": 4,
  "nbformat_minor": 0,
  "metadata": {
    "colab": {
      "name": "Copy of ed_idx_model sticking with the og model.ipynb",
      "version": "0.3.2",
      "provenance": [],
      "collapsed_sections": []
    },
    "language_info": {
      "codemirror_mode": {
        "name": "ipython",
        "version": 3
      },
      "file_extension": ".py",
      "mimetype": "text/x-python",
      "name": "python",
      "nbconvert_exporter": "python",
      "pygments_lexer": "ipython3",
      "version": "3.7.1"
    },
    "kernelspec": {
      "display_name": "Python 3",
      "language": "python",
      "name": "python3"
    }
  },
  "cells": [
    {
      "cell_type": "markdown",
      "metadata": {
        "id": "qZZOxwfQvhYP",
        "colab_type": "text"
      },
      "source": [
        "**Educational Attainment and Success**\n",
        "\n",
        "\n",
        "---\n",
        "\n",
        "\n",
        "Chieh-Huang Chen \\\n",
        "Melvin Cherian \\\n",
        "Michael LI \\\n",
        "\n",
        "\n",
        "---\n",
        "\n",
        "Course: CSC 59970 - Introduction to Data Science \\\n",
        "Instructor: Grant M. Long\n",
        "Project\n",
        "\n"
      ]
    },
    {
      "cell_type": "markdown",
      "metadata": {
        "id": "WYANkyJow0HW",
        "colab_type": "text"
      },
      "source": [
        "**Goals for this Project**\n",
        "\n",
        "1.  Apply Python to load, clean, and process data sets.\n",
        "2.  Identify key patterns in a data set using computational analysis and statistical methods.\n",
        "3.  Apply principles of statistical modeling and machine learning to data.\n",
        "4.  Effectively explain, visualize, and communicate empirical findings.\n",
        "\n",
        "\n",
        "---\n",
        "\n",
        "**Our Questions**\n",
        "\n",
        "\n",
        "*   What human development indicators strongly correlate with adult education level in countries?\n",
        "*   What are significant factors from each major category from the human development dataset that determines adult education level in countries?\n",
        "*   Which countries have a strong potential in increasing their education level within the next five years?\n",
        "\n",
        "---\n",
        "\n",
        "*Thoughts from Chieh (Remove this before submitting the final project)*\n",
        "\n",
        "1. Use the dataset and find potential indicators that have high coorelations with Education Index (https://en.wikipedia.org/wiki/Education_Index), which is used to judge each countries' education level based on the number of years a child is expected to attend school or university and the average number of years of education received by people ages 25 and older.\n",
        "\n",
        "2.  Find the potential indicators for each country and use those potential indicators to predict education index through linear regression.\n",
        "\n",
        "3. Assumptions of Linear Regression \\\n",
        "a.  Data is linear in form. \\\n",
        "b.  Sample is random. \\\n",
        "c.  Error terms have constant variance (homoscedasticity). \\\n",
        "d.  Error terms have a mean of zero based on the observed data. \\\n",
        "e.  Predictors are independent (no multicollinearity). \\\n",
        "f.   Errors are normally distributed. \\\n",
        "\n",
        "4. How to satisfy these assumptions from #3? \\\n",
        "a. Check if the correlation of determination is greater than 0.7  \\\n",
        "b. The data that we collected represents the consenus of the entire country. \\\n",
        "c. There's a constant variance because it's yearly. \\\n",
        "d. Get the standard error of the array and see if it is similar. \\\n",
        "e. Use an algorithm to remove coorelations between predictors. \\\n",
        "f. Yes it is. \\\n",
        "\n",
        "---\n",
        "\n",
        "*Thoughts from Melvin (Remove this before submitting the final project)*\n",
        "\n",
        "\n",
        "---\n",
        "\n",
        "*Thoughts from Michael (Remove this before submitting the final project)*\n",
        "\n",
        "---\n",
        "\n",
        "\n",
        "\n"
      ]
    },
    {
      "cell_type": "markdown",
      "metadata": {
        "id": "roaXF2L2_HmS",
        "colab_type": "text"
      },
      "source": [
        "*Libraries*\n",
        "\n",
        "\n",
        "*   Numpy\n",
        "*   Pandas\n",
        "*   Matplotlib\n",
        "\n"
      ]
    },
    {
      "cell_type": "code",
      "metadata": {
        "colab_type": "code",
        "id": "MpsfjMdHD2uR",
        "colab": {}
      },
      "source": [
        "# Libraries\n",
        "import numpy as np\n",
        "import pandas as pd\n",
        "import matplotlib.pyplot as plt\n",
        "import statsmodels.api as sm\n",
        "from sklearn.linear_model import LinearRegression\n",
        "from sklearn.model_selection import TimeSeriesSplit, cross_val_score"
      ],
      "execution_count": 0,
      "outputs": []
    },
    {
      "cell_type": "markdown",
      "metadata": {
        "id": "G6XWO6zm-05I",
        "colab_type": "text"
      },
      "source": [
        "*Loading Data into Memory*\n",
        "\n",
        "---\n",
        "\n",
        "We loaded two datasets into memory: Adult Education Level (AEL) dataset and Human Development Indicators (HDI) dataset.\n",
        "\n",
        "We specifically removed column 9999 from our dataset because it only shows the latest value from the data drawn within 1990 to 2017. In this analysis, we analyzed these indicators over time to predict the future of education level in each country."
      ]
    },
    {
      "cell_type": "code",
      "metadata": {
        "colab_type": "code",
        "id": "DeLRr771D2uY",
        "colab": {}
      },
      "source": [
        "# Loading Datasets on to DataFrames\n",
        "indicators_url = 'https://github.com/chc5/education-indicator-analysis/raw/master/2018_all_indicators.csv'\n",
        "education_url = 'https://github.com/chc5/education-indicator-analysis/raw/master/adult_education_level.csv'\n",
        "\n",
        "inds_df = pd.read_csv(indicators_url)\n",
        "ed_df = pd.read_csv(education_url)\n",
        "\n",
        "inds_df = inds_df.drop(columns=['9999'])"
      ],
      "execution_count": 0,
      "outputs": []
    },
    {
      "cell_type": "markdown",
      "metadata": {
        "id": "8EVt0okmATn3",
        "colab_type": "text"
      },
      "source": [
        "Many of our HDIs only have zero or one recordings in the dataset in years between 1990 to 2017. Due to the lack of data over time, we decided to remove these indicators that has at most 2 data points in each row.\n",
        "\n",
        "When we removed these indicators, it cleans up at least 28% of the HDI dataset."
      ]
    },
    {
      "cell_type": "code",
      "metadata": {
        "colab_type": "code",
        "id": "7xyRK5lTD2ub",
        "outputId": "76f8f6e2-1de2-40f7-cd0a-6250af7c635a",
        "colab": {
          "base_uri": "https://localhost:8080/",
          "height": 69
        }
      },
      "source": [
        "threshold = 2\n",
        "drop_stack = set()\n",
        "length_before = len(inds_df)\n",
        "print(\"Number of rows in the indicators data frame before the cleanup:\", length_before)\n",
        "for index, row in inds_df.iterrows():\n",
        "    if row['1990':].count() <= threshold:\n",
        "        drop_stack.add(index)\n",
        "\n",
        "inds_df = inds_df.drop(drop_stack)\n",
        "length_after = len(inds_df)\n",
        "print(\"Number of rows in the indicators data frame after the cleanup:\", length_after)\n",
        "print(\"% of rows deleted: {0:.2f}%\".format((length_before - length_after) * 100 / length_after))\n"
      ],
      "execution_count": 3,
      "outputs": [
        {
          "output_type": "stream",
          "text": [
            "Number of rows in the indicators data frame before the cleanup: 25636\n",
            "Number of rows in the indicators data frame after the cleanup: 19911\n",
            "% of rows deleted: 28.75%\n"
          ],
          "name": "stdout"
        }
      ]
    },
    {
      "cell_type": "markdown",
      "metadata": {
        "id": "w75CGvKJCy12",
        "colab_type": "text"
      },
      "source": [
        "*Plotting Correlations for each country*\n",
        "\n",
        "We have a method to retrieve each indicators for a country we specify for future uses."
      ]
    },
    {
      "cell_type": "code",
      "metadata": {
        "colab_type": "code",
        "id": "s5nIjAhAD2ul",
        "colab": {}
      },
      "source": [
        "def plot_corr(df,size=10):\n",
        "    '''Function plots a graphical correlation matrix for each pair of columns in the dataframe.\n",
        "\n",
        "    Input:\n",
        "        df: pandas DataFrame\n",
        "        size: vertical and horizontal size of the plot'''\n",
        "\n",
        "    corr = df.corr()\n",
        "    fig, ax = plt.subplots(figsize=(size, size))\n",
        "    ax.matshow(corr)\n",
        "    plt.xticks(range(len(corr.columns)), corr.columns);\n",
        "    plt.yticks(range(len(corr.columns)), corr.columns);\n",
        "    \n",
        "  \n",
        "def plot_corr_country(df, country):\n",
        "  # drop ids etc., get only rows with country, transpose\n",
        "  df_corr = inds_df.drop(df.columns[[0, 1, 3]], axis=1)[df.country_name == country].T\n",
        "  # fix columns\n",
        "  df_corr.columns = df_corr.iloc[0]\n",
        "  # drop first two rops\n",
        "  df_corr = df_corr[2:]\n",
        "  # df_corr = inds_df.drop(inds_df.columns[[0, 1, 3]], axis=1).drop(inds_df.columns[range(5,32)], axis=1)[inds_df.country_name == \"Albania\"]\n",
        "  df_corr = df_corr.apply(pd.to_numeric)\n",
        "#   plot_corr(df_corr, size=20)\n",
        "  return df_corr"
      ],
      "execution_count": 0,
      "outputs": []
    },
    {
      "cell_type": "markdown",
      "metadata": {
        "id": "wg31PZDKDZdH",
        "colab_type": "text"
      },
      "source": [
        "### How do we determine the strongest indicators to Education Index for each country?\n",
        "\n",
        "**Education Index:** A standard created by United Nations that determines educational attainment for each country. \\\n",
        "**Formula:** MYSI + EYSI / 2 \\\n",
        "Mean Years of Schooling Index(MYSI): MYS / 15 \\\n",
        "Mean Years of Schooling(MYS): Average number of years of education received by people ages 25 and older. \\\n",
        "Expected Years of Schooling Index(EYSI): EYS / 18 \\\n",
        "Expected Years of Schooling(EYS): The number of years a child is expected to attend school, or university, including the years spent on repetition. \\\n",
        "\n",
        "*Source: https://en.wikipedia.org/wiki/Education_Index* \n",
        "\n",
        "\n",
        "\n",
        "---\n",
        "\n",
        "\n",
        "We get the strongest correlations for each country by getting the correlation coefficient between the Education Index to every other indicator in the row for that country. By squaring the correlation coefficient, we get the correlation of determination (R^2) which tells us the percentage of the variance in our dependent variable that can be explained by our independent variable. In this case, we sorted the indicators based on the correlation of determination and remove all the indicators where its correlation of determination to the Education Index is less than 0.7.\n",
        "\n",
        "We then dropped the indicators that are directly dependent to the Education Index based on the formula such as 'Education index', 'Expected years of schooling (years)' and 'Mean years of schooling (years)'."
      ]
    },
    {
      "cell_type": "code",
      "metadata": {
        "id": "x9PDmJYJAiLN",
        "colab_type": "code",
        "colab": {}
      },
      "source": [
        "# Get the strongest indicators towards the Education Index by getting the strongest correlation of determination (R^2)\n",
        "# between every other indicators to the Education Index. \n",
        "def get_strongest_correlations(df_corr, indicator, num_indicators = 100, threshold=0.7):\n",
        "    correlations = []\n",
        "    for row in df_corr.corr():\n",
        "        corr_determ = df_corr.corr()[row][indicator] ** 2\n",
        "        if corr_determ >= threshold:\n",
        "          correlations.append([row, corr_determ])\n",
        "    \n",
        "    correlations.sort(key = lambda corr: corr[1], reverse=True)\n",
        "    return correlations[:num_indicators]"
      ],
      "execution_count": 0,
      "outputs": []
    },
    {
      "cell_type": "markdown",
      "metadata": {
        "id": "TJ5YIw-oUbOu",
        "colab_type": "text"
      },
      "source": [
        "*Grouping Indicators Based on Categories* \\\n",
        "The methods below groups these indicators to categories found in the dataset. The dataset we used have categorized closely related indicators and by taking advantage of these categories, we can assume that the indicators are not multicollinear because their dependences of these indicators aren't closely related with each other based on context of these indicators."
      ]
    },
    {
      "cell_type": "code",
      "metadata": {
        "id": "lHnvQ6lrU32n",
        "colab_type": "code",
        "colab": {}
      },
      "source": [
        "# Map indicators to categories\n",
        "def map_ind_to_categories(df):\n",
        "  ind_map = {}\n",
        "  mapped_inds = df.groupby(['dimension', 'indicator_name']).size().reset_index().rename(columns={0:'count'})\n",
        "  for index, row in mapped_inds.iterrows():\n",
        "    ind_map[row['indicator_name']] = row['dimension']\n",
        "  return ind_map\n",
        "\n",
        "def group_indicators(df, potential_indicators):\n",
        "  ind_map = map_ind_to_categories(df)\n",
        "  groups = {}\n",
        "  features = []\n",
        "  for p in potential_indicators:\n",
        "    if ind_map[p[0]] not in groups:\n",
        "      groups[ind_map[p[0]]] = [p]\n",
        "    else:\n",
        "      groups[ind_map[p[0]]].append(p)\n",
        "  for g in groups:\n",
        "    features.append(max(groups[g], key=lambda g: g[1])[0])\n",
        "  return features"
      ],
      "execution_count": 0,
      "outputs": []
    },
    {
      "cell_type": "markdown",
      "metadata": {
        "id": "GejRn60CVlvF",
        "colab_type": "text"
      },
      "source": [
        "*Selecting our Indicators for Modeling Purposes* \\\n",
        "In our model in predicting Education Index for each country, we selected one indicator from each category as our predictors for country. These indicators that we've chosen will not be collinear with each other under the assumption that these indicators are only closely related with the categories that they belong in the dataset."
      ]
    },
    {
      "cell_type": "code",
      "metadata": {
        "id": "2jJVlRZ_7jym",
        "colab_type": "code",
        "colab": {}
      },
      "source": [
        "# Get potential indicators from countries\n",
        "def get_potential_indicators(df, country, target, ignored_features=[], grouped=True):\n",
        "  country_df = plot_corr_country(df, country)\n",
        "  if target not in country_df:\n",
        "#     print(\"{} does not have an {}\".format(country, target))\n",
        "    return []\n",
        "  potential_indicators = get_strongest_correlations(country_df, target)\n",
        "  potential_indicators = [p for p in potential_indicators if p[0] not in ignored_features]\n",
        "  features = [p[0] for p in potential_indicators] \n",
        "  if grouped:\n",
        "    features = group_indicators(df, potential_indicators)\n",
        "  return features\n"
      ],
      "execution_count": 0,
      "outputs": []
    },
    {
      "cell_type": "markdown",
      "metadata": {
        "id": "NQCit1dSYDBZ",
        "colab_type": "text"
      },
      "source": [
        "*Retrieving our Potential Indicators for Each Country* \\\n",
        "We then retrieve all the indicators that we will be using for each country based on our explanation from above. Note that there are some countries that does not have an Education Index (e.g. North Korea) due to a lack of information."
      ]
    },
    {
      "cell_type": "code",
      "metadata": {
        "id": "KkCuzZ-eLVMS",
        "colab_type": "code",
        "colab": {}
      },
      "source": [
        "# Dropping 'Education index', 'Expected years of schooling (years)', \n",
        "# 'Mean years of schooling (years)' and others \n",
        "# because they are part of the Education Index formula\n",
        "dep_ed_ind = [ 'Education index', \n",
        "               'Expected years of schooling (years)', \n",
        "               'Mean years of schooling (years)', \n",
        "               'Expected years of schooling, female (years)', \n",
        "               'Mean years of schooling, female (years)',\n",
        "               'Expected years of schooling, male (years)',\n",
        "               'Expected years of schooling, male (years)',\n",
        "               'Mean years of schooling, male (years)',\n",
        "               'Inequality-adjusted education index'\n",
        "              ]   \n",
        "\n",
        "target = 'Education index'\n",
        "country_indicators = {}\n",
        "country_names = inds_df.country_name.unique()\n",
        "for c in country_names:\n",
        "  features = get_potential_indicators(inds_df, c, target, dep_ed_ind)\n",
        "  country_indicators[c] = features\n"
      ],
      "execution_count": 0,
      "outputs": []
    },
    {
      "cell_type": "markdown",
      "metadata": {
        "id": "d0M94N1Ucb05",
        "colab_type": "text"
      },
      "source": [
        "*Taking a Look at Most Frequent Indicators for All Countries* \\\n",
        "Let's take a look at the indicators that pops up frequently in each countries. We counted all the indicators that popped up in all countries and ranked them based on their number of appearances."
      ]
    },
    {
      "cell_type": "code",
      "metadata": {
        "id": "sbnimyDGZhKx",
        "colab_type": "code",
        "outputId": "fad7bf2c-c022-4b4e-f818-05107e76dca1",
        "colab": {
          "base_uri": "https://localhost:8080/",
          "height": 1887
        }
      },
      "source": [
        "top_indicators = {}\n",
        "for c in country_indicators:\n",
        "  for ind in country_indicators[c]:\n",
        "    if ind in top_indicators:\n",
        "      top_indicators[ind] += 1\n",
        "    else:\n",
        "      top_indicators[ind] = 1\n",
        "sorted_top_indicators = sorted(top_indicators.items(), key=lambda kv: kv[1], reverse=True)\n",
        "print(\"Top Indicators Used for Each Country\")\n",
        "for i, ind in enumerate(sorted_top_indicators, 1):\n",
        "  print(\"{}. {} \\t Number of countries: {}\".format(i, ind[0], ind[1]))"
      ],
      "execution_count": 9,
      "outputs": [
        {
          "output_type": "stream",
          "text": [
            "Top Indicators Used for Each Country\n",
            "1. Human Development Index (HDI) \t Number of countries: 177\n",
            "2. Working poor at PPP$3.10 a day (% of total employment) \t Number of countries: 77\n",
            "3. Forest area (% of total land area) \t Number of countries: 74\n",
            "4. Mobile phone subscriptions (per 100 people) \t Number of countries: 69\n",
            "5. Suicide rate, female (per 100,000 people) \t Number of countries: 66\n",
            "6. Gross domestic product (GDP), total (2011 PPP $ billions) \t Number of countries: 61\n",
            "7. Inequality-adjusted life expectancy index \t Number of countries: 61\n",
            "8. Red List Index (value) \t Number of countries: 58\n",
            "9. Median age (years) \t Number of countries: 57\n",
            "10. Population using improved drinking-water sources (%) \t Number of countries: 54\n",
            "11. Population using improved sanitation facilities (%) \t Number of countries: 52\n",
            "12. Inequality-adjusted HDI (IHDI) \t Number of countries: 52\n",
            "13. Internet users, total (% of population) \t Number of countries: 50\n",
            "14. Income index \t Number of countries: 49\n",
            "15. Suicide rate, male (per 100,000 people) \t Number of countries: 45\n",
            "16. Employment in services (% of total employment) \t Number of countries: 45\n",
            "17. Human Development Index (HDI), female \t Number of countries: 44\n",
            "18. Urban population (%) \t Number of countries: 43\n",
            "19. Exports and imports (% of GDP) \t Number of countries: 38\n",
            "20. Human Development Index (HDI), male \t Number of countries: 36\n",
            "21. Mortality rate, under-five (per 1,000 live births) \t Number of countries: 30\n",
            "22. Remittances, inflows (% of GDP) \t Number of countries: 30\n",
            "23. Population with at least some secondary education, female (% ages 25 and older) \t Number of countries: 29\n",
            "24. Labour force participation rate (% ages 15 and older), female \t Number of countries: 28\n",
            "25. Population with at least some secondary education (% ages 25 and older) \t Number of countries: 27\n",
            "26. Mortality rate, infant (per 1,000 live births) \t Number of countries: 27\n",
            "27. Homicide rate (per 100,000 people) \t Number of countries: 26\n",
            "28. Gross enrolment ratio, tertiary (% of tertiary school-age population) \t Number of countries: 26\n",
            "29. Young age (0-14) dependency ratio (per 100 people ages 15-64) \t Number of countries: 25\n",
            "30. Gross enrolment ratio, secondary (% of secondary school-age population) \t Number of countries: 25\n",
            "31. International inbound tourists (thousands) \t Number of countries: 25\n",
            "32. Employment in agriculture (% of total employment) \t Number of countries: 24\n",
            "33. Life expectancy at birth, male (years) \t Number of countries: 24\n",
            "34. Life expectancy at birth, female (years) \t Number of countries: 24\n",
            "35. Women with account at financial institution or with mobile money-service provider (% of female population ages 15 and older) \t Number of countries: 23\n",
            "36. Skilled labour force (% of labour force) \t Number of countries: 21\n",
            "37. Population with at least some secondary education, male (% ages 25 and older) \t Number of countries: 19\n",
            "38. Net migration rate (per 1,000 people) \t Number of countries: 19\n",
            "39. Total population (millions) \t Number of countries: 18\n",
            "40. GDP per capita (2011 PPP $) \t Number of countries: 18\n",
            "41. Labour force participation rate (% ages 15 and older), male \t Number of countries: 18\n",
            "42. Rural population with access to electricity (%) \t Number of countries: 18\n",
            "43. Vulnerable employment (% of total employment) \t Number of countries: 18\n",
            "44. Maternal mortality ratio (deaths per 100,000 live births) \t Number of countries: 17\n",
            "45. Gross national income (GNI) per capita (2011 PPP $) \t Number of countries: 16\n",
            "46. Renewable energy consumption (% of total final energy consumption) \t Number of countries: 15\n",
            "47. Population ages 15–64 (millions) \t Number of countries: 15\n",
            "48. International student mobility (% of total tertiary enrolment) \t Number of countries: 15\n",
            "49. Mortality rate, male adult (per 1,000 people) \t Number of countries: 14\n",
            "50. Fresh water withdrawals (% of total renewable water resources) \t Number of countries: 14\n",
            "51. Mortality rate, female adult (per 1,000 people) \t Number of countries: 14\n",
            "52. Adolescent birth rate (births per 1,000 women ages 15-19) \t Number of countries: 12\n",
            "53. Tuberculosis incidence (per 100,000 people) \t Number of countries: 12\n",
            "54. Inequality in education (%) \t Number of countries: 12\n",
            "55. Ratio of education and health expenditure to military expenditure \t Number of countries: 12\n",
            "56. Contraceptive prevalence, any method (% of married or in-union women of reproductive age, 15–49 years) \t Number of countries: 12\n",
            "57. Literacy rate, adult (% ages 15 and older) \t Number of countries: 11\n",
            "58. Population under age 5 (millions) \t Number of countries: 11\n",
            "59. Domestic credit provided by financial sector (% of GDP) \t Number of countries: 11\n",
            "60. Gross enrolment ratio, primary (% of primary school-age population) \t Number of countries: 10\n",
            "61. Net official development assistance received (% of GNI) \t Number of countries: 10\n",
            "62. Antenatal care coverage, at least one visit (%) \t Number of countries: 10\n",
            "63. Life expectancy index \t Number of countries: 10\n",
            "64. Government expenditure on education (% of GDP) \t Number of countries: 9\n",
            "65. Employment to population ratio (% ages 15 and older) \t Number of countries: 9\n",
            "66. Malaria incidence (per 1,000 people at risk) \t Number of countries: 9\n",
            "67. Life expectancy at birth (years) \t Number of countries: 8\n",
            "68. Research and development expenditure (% of GDP) \t Number of countries: 8\n",
            "69. Gender Inequality Index (GII) \t Number of countries: 8\n",
            "70. Old-age (65 and older) dependency ratio (per 100 people ages 15-64) \t Number of countries: 8\n",
            "71. Carbon dioxide emissions (kg per 2011 PPP $ of GDP) \t Number of countries: 8\n",
            "72. Youth not in school or employment (% ages 15-24) \t Number of countries: 8\n",
            "73. Carbon dioxide emissions, per capita (tonnes) \t Number of countries: 8\n",
            "74. Labour force participation rate (% ages 15 and older) \t Number of countries: 7\n",
            "75. Pupil-teacher ratio, primary school (pupils per teacher) \t Number of countries: 7\n",
            "76. Survival rate to the last grade of lower secondary general education (%) \t Number of countries: 6\n",
            "77. Inequality in income (%) \t Number of countries: 6\n",
            "78. Gross enrolment ratio, pre-primary (% of preschool-age children) \t Number of countries: 6\n",
            "79. Population ages 65 and older (millions) \t Number of countries: 6\n",
            "80. HIV prevalence, adult (% ages 15-49) \t Number of countries: 6\n",
            "81. Inequality-adjusted income index \t Number of countries: 6\n",
            "82. Unemployment, total (% of labour force) \t Number of countries: 5\n",
            "83. Primary school teachers trained to teach (%) \t Number of countries: 5\n",
            "84. Gross fixed capital formation (% of GDP) \t Number of countries: 5\n",
            "85. Adjusted net savings (% of GNI) \t Number of countries: 5\n",
            "86. Private capital flows (% of GDP) \t Number of countries: 4\n",
            "87. Estimated gross national income per capita, female (2011 PPP $) \t Number of countries: 4\n",
            "88. Current health expenditure (% of GDP) \t Number of countries: 4\n",
            "89. Unmet need for family planning (% of married or in-union women of reproductive age, 15–49 years) \t Number of countries: 4\n",
            "90. Unemployment, youth (% ages 15–24) \t Number of countries: 4\n",
            "91. Gender Development Index (GDI) \t Number of countries: 3\n",
            "92. Primary school dropout rate (% of primary school cohort) \t Number of countries: 3\n",
            "93. Foreign direct investment, net inflows (% of GDP) \t Number of countries: 2\n",
            "94. Coefficient of human inequality \t Number of countries: 2\n",
            "95. Overall loss in HDI due to inequality (%) \t Number of countries: 2\n",
            "96. Gross capital formation (% of GDP) \t Number of countries: 2\n",
            "97. Total debt service (% of exports of goods, services and primary income) \t Number of countries: 2\n",
            "98. Proportion of births attended by skilled health personnel (%) \t Number of countries: 2\n",
            "99. Inequality in life expectancy (%) \t Number of countries: 2\n",
            "100. Fossil fuel energy consumption (% of total energy consumption) \t Number of countries: 1\n",
            "101. Infants lacking immunization, DPT (% of one-year-olds) \t Number of countries: 1\n",
            "102. Share of seats in parliament (% held by women) \t Number of countries: 1\n",
            "103. Estimated gross national income per capita, male (2011 PPP $) \t Number of countries: 1\n",
            "104. Female share of employment in senior and middle management (%) \t Number of countries: 1\n",
            "105. Concentration index (exports) (value) \t Number of countries: 1\n"
          ],
          "name": "stdout"
        }
      ]
    },
    {
      "cell_type": "markdown",
      "metadata": {
        "id": "wthg_g2Ida55",
        "colab_type": "text"
      },
      "source": [
        "*Preprocessing Our Dataset In Preparation for Our Model* \\\n",
        "In our dataset, the data that we saw are transposed where the years and the values are columns. After transposing, we had an option to remove rows that have missing data. However, we chose to fill out the missing data using a linear regression model because the dataset we are currently used. We have provided a scatterplot for these indicators as reference in proving that the data is linear in form. Finally, we returned a dataset that will be used to predict our Education Index along with a collection of regressors that we've used to map years to our indicators. (NOTE: SCATTERPLOT MODEL NEEDED)"
      ]
    },
    {
      "cell_type": "code",
      "metadata": {
        "id": "W6ZzQ663zdtO",
        "colab_type": "code",
        "colab": {}
      },
      "source": [
        "# Transpose the data frame to only have years and values as columns\n",
        "def transpose_yearly_values(df):\n",
        "  df = df.drop(columns=['dimension', 'indicator_id', 'iso3', 'country_name'])\n",
        "  df = df.set_index('indicator_name').transpose()\n",
        "  df['Year'] = pd.to_numeric(df.index)\n",
        "  return df\n",
        "\n",
        "# Predicting the missing values using Linear Regression Models\n",
        "# and then filling out the missing values based on the model\n",
        "# Preserve the Linear Regression for future uses\n",
        "def build_regressors(inds_df, country, indicators):\n",
        "  country_df = inds_df.loc[inds_df['country_name'] == country]\n",
        "  reg_inds = {}\n",
        "  filled_indicators = pd.DataFrame(data={'Year':pd.to_numeric(country_df.columns[5:].values)})\n",
        "  for ind in indicators:\n",
        "    ind_df = country_df.loc[country_df['indicator_name'] == ind]\n",
        "    values_df = transpose_yearly_values(ind_df)\n",
        "    \n",
        "    # Get the missing values in each year and predict them later on.\n",
        "    missing_years = values_df[values_df[ind].isnull()].Year.values\n",
        "    values_df = values_df.dropna()\n",
        "    \n",
        "    # Fit the data to the Linear Regression and predict the values\n",
        "    X = values_df['Year'].values.reshape(-1, 1)\n",
        "    Y = values_df[ind].values.reshape(-1, 1)\n",
        "    reg = LinearRegression()\n",
        "    reg.fit(X, Y)\n",
        "    \n",
        "    # Filling out the missing data back to values_df\n",
        "    if missing_years.size > 0:\n",
        "      missing_years = missing_years.reshape(-1, 1)\n",
        "      missing_values = reg.predict(missing_years)\n",
        "      missing_years = missing_years.reshape(1, -1)[0]\n",
        "      missing_values = missing_values.reshape(1, -1)[0]\n",
        "      predicted_df = pd.DataFrame({'Year': missing_years, ind: missing_values})\n",
        "      values_df = values_df.append(predicted_df, sort=False)\n",
        "    # Preserve the filled out data and the regression for future uses\n",
        "    reg_inds[ind] = reg\n",
        "    filled_indicators = filled_indicators.merge(values_df, left_on='Year', right_on='Year')\n",
        "  \n",
        "  return reg_inds, filled_indicators\n"
      ],
      "execution_count": 0,
      "outputs": []
    },
    {
      "cell_type": "markdown",
      "metadata": {
        "id": "LcT9qjj5lKBU",
        "colab_type": "text"
      },
      "source": [
        "*Building our Models* \\\n",
        "In our final step, we built the multiple regression model by using our indicators as our predictors and our Education Index as our target.  Thoughts compare year vs education index vs our model"
      ]
    },
    {
      "cell_type": "code",
      "metadata": {
        "id": "oLXj4-fjKWz4",
        "colab_type": "code",
        "outputId": "07f69f2c-d723-40c5-f719-5f464b0b7e03",
        "colab": {
          "base_uri": "https://localhost:8080/",
          "height": 1169
        }
      },
      "source": [
        "class EducationIndexModel:\n",
        "  def __init__(self, target='Education index'):\n",
        "    self.target = target\n",
        "    self.reg_created = False\n",
        "    \n",
        "  def fit(self, inds_df, country, indicators):\n",
        "    self.feature_regressors, self.features_df = build_regressors(inds_df, country, country_indicators[country])\n",
        "    self.target_regressor, self.target_df = build_regressors(inds_df, country, [target])\n",
        "    self.X = self.features_df.values\n",
        "    self.Y = self.target_df[target].values\n",
        "    self.reg = LinearRegression()\n",
        "    self.reg.fit(self.X, self.Y)\n",
        "    self.reg_created = True\n",
        "    \n",
        "  def predict_year(self, years):\n",
        "    if not self.reg_created:\n",
        "      print(\"Regression Model not Created\")\n",
        "      return None\n",
        "    predictors_df = pd.DataFrame({'Year': years})\n",
        "    years = np.array([years]).reshape(-1, 1)\n",
        "    for f in self.feature_regressors:\n",
        "      f_vals = self.feature_regressors[f].predict(years)\n",
        "      predictors_df[f] = f_vals.reshape(1, -1)[0]\n",
        "    X_pred = predictors_df.values\n",
        "    education_index = self.reg.predict(X_pred)\n",
        "    return education_index\n",
        "  \n",
        "  \n",
        "  def get_r_squared(self, adjusted=False):\n",
        "    if not self.reg_created:\n",
        "      print(\"Regression Model not Created\")\n",
        "      return None\n",
        "    Yhat = self.reg.predict(self.X)\n",
        "    SS_Residual = sum((self.Y-Yhat)**2)\n",
        "    SS_Total = sum((self.Y-np.mean(self.Y))**2)\n",
        "    r_squared = 1 - (float(SS_Residual))/SS_Total\n",
        "    if not adjusted:\n",
        "      return r_squared\n",
        "    else:\n",
        "      adjusted_r_squared = 1 - (1-r_squared)*(len(self.Y)-1)/(len(self.Y)-self.X.shape[1]-1)\n",
        "      return adjusted_r_squared\n",
        "  \n",
        "  # Training 75% of our dataset and testing it on the remaining 25%\n",
        "  def get_mse_score(self, test_size=0.25):\n",
        "    train_index = range(int(len(self.X) * (1 - test_size)))\n",
        "    test_index = range(len(train_index), len(self.X))\n",
        "    X_train, X_test = self.X[train_index], self.X[test_index]\n",
        "    Y_train, Y_test = self.Y[train_index], self.Y[test_index]\n",
        "    cv_reg = LinearRegression()\n",
        "    cv_reg.fit(X_train, Y_train)\n",
        "    Y_pred = cv_reg.predict(X_test)\n",
        "    rmse = np.sqrt(sum((Y_test-Y_pred)**2)/len(Y_pred))\n",
        "    return sum((Y_test - Y_pred)**2)/len(Y_pred)\n",
        "    \n",
        "  def get_r_squared_from_simple_reg(self):\n",
        "    if not self.reg_created:\n",
        "      print(\"Model not created\")\n",
        "      return None\n",
        "    r2 = self.target_regressor[self.target].score(\n",
        "        self.features_df['Year'].values.reshape(-1, 1),\n",
        "        self.Y)\n",
        "    return r2 \n",
        "  \n",
        "  def get_table_summary(self):\n",
        "    if not self.reg_created:\n",
        "      print(\"Model not created\")\n",
        "      return None\n",
        "    model = sm.OLS(self.Y, self.X).fit()\n",
        "    return model.summary()\n",
        "  \n",
        "  def get_table_summary_from_simple_reg(self):\n",
        "    if not self.reg_created:\n",
        "      print(\"Model not created\")\n",
        "      return None\n",
        "    model = sm.OLS(self.Y, self.features_df['Year'].values.reshape(-1,1)).fit()\n",
        "    return model.summary()\n",
        "\n",
        "eim = EducationIndexModel()\n",
        "country = 'Peru'\n",
        "eim.fit(inds_df, country, country_indicators[country])\n",
        "print(eim.predict_year(range(2020, 2025)))\n",
        "print(eim.get_r_squared(adjusted=False))\n",
        "print(eim.get_mse_score())\n",
        "eim.get_r_squared_from_simple_reg()\n",
        "print(eim.get_table_summary_from_simple_reg())\n",
        "print(eim.get_table_summary())"
      ],
      "execution_count": 14,
      "outputs": [
        {
          "output_type": "stream",
          "text": [
            "[0.71806897 0.72331773 0.7285665  0.73381527 0.73906404]\n",
            "0.9975437916103129\n",
            "0.045736151589444156\n",
            "                            OLS Regression Results                            \n",
            "==============================================================================\n",
            "Dep. Variable:                      y   R-squared:                       0.996\n",
            "Model:                            OLS   Adj. R-squared:                  0.995\n",
            "Method:                 Least Squares   F-statistic:                     6012.\n",
            "Date:                Mon, 13 May 2019   Prob (F-statistic):           2.90e-33\n",
            "Time:                        16:01:15   Log-Likelihood:                 48.815\n",
            "No. Observations:                  28   AIC:                            -95.63\n",
            "Df Residuals:                      27   BIC:                            -94.30\n",
            "Df Model:                           1                                         \n",
            "Covariance Type:            nonrobust                                         \n",
            "==============================================================================\n",
            "                 coef    std err          t      P>|t|      [0.025      0.975]\n",
            "------------------------------------------------------------------------------\n",
            "x1             0.0003   4.07e-06     77.540      0.000       0.000       0.000\n",
            "==============================================================================\n",
            "Omnibus:                        3.694   Durbin-Watson:                   0.079\n",
            "Prob(Omnibus):                  0.158   Jarque-Bera (JB):                2.416\n",
            "Skew:                          -0.528   Prob(JB):                        0.299\n",
            "Kurtosis:                       2.022   Cond. No.                         1.00\n",
            "==============================================================================\n",
            "\n",
            "Warnings:\n",
            "[1] Standard Errors assume that the covariance matrix of the errors is correctly specified.\n",
            "                            OLS Regression Results                            \n",
            "==============================================================================\n",
            "Dep. Variable:                      y   R-squared:                       1.000\n",
            "Model:                            OLS   Adj. R-squared:                  1.000\n",
            "Method:                 Least Squares   F-statistic:                 7.917e+04\n",
            "Date:                Mon, 13 May 2019   Prob (F-statistic):           8.80e-32\n",
            "Time:                        16:01:15   Log-Likelihood:                 130.98\n",
            "No. Observations:                  28   AIC:                            -234.0\n",
            "Df Residuals:                      14   BIC:                            -215.3\n",
            "Df Model:                          14                                         \n",
            "Covariance Type:            nonrobust                                         \n",
            "==============================================================================\n",
            "                 coef    std err          t      P>|t|      [0.025      0.975]\n",
            "------------------------------------------------------------------------------\n",
            "x1             0.0001      0.001      0.181      0.859      -0.001       0.001\n",
            "x2         -8.548e-05      0.000     -0.522      0.610      -0.000       0.000\n",
            "x3            -0.0106      0.012     -0.918      0.374      -0.035       0.014\n",
            "x4             2.3144      0.220     10.519      0.000       1.842       2.786\n",
            "x5            -0.0076      0.017     -0.452      0.658      -0.044       0.029\n",
            "x6            -0.0005      0.001     -0.845      0.412      -0.002       0.001\n",
            "x7             0.0037      0.005      0.700      0.496      -0.008       0.015\n",
            "x8            -0.0114      0.007     -1.634      0.125      -0.026       0.004\n",
            "x9            -0.0006      0.001     -1.186      0.255      -0.002       0.001\n",
            "x10            0.0006      0.001      0.621      0.545      -0.001       0.003\n",
            "x11         8.268e-05      0.000      0.781      0.448      -0.000       0.000\n",
            "x12            0.0003      0.003      0.079      0.938      -0.007       0.008\n",
            "x13            0.0592      0.124      0.479      0.639      -0.206       0.324\n",
            "x14         -2.91e-05   6.01e-06     -4.838      0.000    -4.2e-05   -1.62e-05\n",
            "==============================================================================\n",
            "Omnibus:                        0.366   Durbin-Watson:                   2.193\n",
            "Prob(Omnibus):                  0.833   Jarque-Bera (JB):                0.128\n",
            "Skew:                          -0.163   Prob(JB):                        0.938\n",
            "Kurtosis:                       2.936   Cond. No.                     9.76e+05\n",
            "==============================================================================\n",
            "\n",
            "Warnings:\n",
            "[1] Standard Errors assume that the covariance matrix of the errors is correctly specified.\n",
            "[2] The condition number is large, 9.76e+05. This might indicate that there are\n",
            "strong multicollinearity or other numerical problems.\n"
          ],
          "name": "stdout"
        }
      ]
    },
    {
      "cell_type": "code",
      "metadata": {
        "id": "44RRdS58YJov",
        "colab_type": "code",
        "colab": {}
      },
      "source": [
        ""
      ],
      "execution_count": 0,
      "outputs": []
    },
    {
      "cell_type": "code",
      "metadata": {
        "id": "SU6z2yY3wG9g",
        "colab_type": "code",
        "colab": {}
      },
      "source": [
        "# https://medium.com/cindicator/backtesting-time-series-models-weekend-of-a-data-scientist-92079cc2c540\n"
      ],
      "execution_count": 0,
      "outputs": []
    }
  ]
}